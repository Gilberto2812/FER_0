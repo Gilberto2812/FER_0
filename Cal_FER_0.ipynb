{
  "nbformat": 4,
  "nbformat_minor": 0,
  "metadata": {
    "colab": {
      "provenance": [],
      "toc_visible": true,
      "authorship_tag": "ABX9TyPgo28woeNJ3FXWFReNn6tX",
      "include_colab_link": true
    },
    "kernelspec": {
      "name": "python3",
      "display_name": "Python 3"
    },
    "language_info": {
      "name": "python"
    }
  },
  "cells": [
    {
      "cell_type": "markdown",
      "metadata": {
        "id": "view-in-github",
        "colab_type": "text"
      },
      "source": [
        "<a href=\"https://colab.research.google.com/github/Gilberto2812/FER_0/blob/main/Cal_FER_0.ipynb\" target=\"_parent\"><img src=\"https://colab.research.google.com/assets/colab-badge.svg\" alt=\"Open In Colab\"/></a>"
      ]
    },
    {
      "cell_type": "markdown",
      "source": [
        "##Importando dependencias"
      ],
      "metadata": {
        "id": "pUEhImhvrsjw"
      }
    },
    {
      "cell_type": "code",
      "source": [
        "import json\n",
        "from datetime import date, datetime, timedelta\n",
        "from random import randint\n",
        "!pip install investpy\n",
        "import pandas as pd\n",
        "import pkg_resources\n",
        "import pytz\n",
        "import requests\n",
        "from lxml.html import fromstring"
      ],
      "metadata": {
        "id": "BvN8l4BuhM4d"
      },
      "execution_count": null,
      "outputs": []
    },
    {
      "cell_type": "markdown",
      "source": [
        "##Función"
      ],
      "metadata": {
        "id": "m6UGvSIxrlYQ"
      }
    },
    {
      "cell_type": "code",
      "execution_count": null,
      "metadata": {
        "id": "kmo7J7ZfhLCj"
      },
      "outputs": [],
      "source": [
        "def ventas_optimas(ts):\n",
        "    import json\n",
        "    from datetime import date, datetime, timedelta\n",
        "    from random import randint\n",
        "\n",
        "    import pandas as pd\n",
        "    import pkg_resources\n",
        "    import pytz\n",
        "    import requests\n",
        "    from lxml.html import fromstring\n",
        "    st=pd.read_csv('https://raw.githubusercontent.com/Gilberto2812/FER_0/main/stocks.csv')\n",
        "    \n",
        "    headers = {\n",
        "            \"User-Agent\": \"Mozilla/5.0 (Macintosh; U; Intel Mac OS X 10.5; en-US; rv:1.9.1b3) Gecko/20090305\",\n",
        "            \"X-Requested-With\": \"XMLHttpRequest\",\n",
        "            \"Accept\": \"text/html\",\n",
        "            \"Accept-Encoding\": \"gzip, deflate\",\n",
        "            \"Connection\": \"keep-alive\",\n",
        "        }\n",
        "    id=st.loc[(st.symbol=='AAPL')&(st.country=='united states'),'id'].values[0]\n",
        "    pm = {\n",
        "        'action':'change_report_type',\n",
        "        'pair_ID':id,\n",
        "        'report_type':'BAL',\n",
        "        'period_type':'Annual',\n",
        "    }\n",
        "    r1=requests.get('https://www.investing.com/instruments/Financials/changereporttypeajax',headers=headers,params=pm)\n",
        "    root = fromstring(r1.text)\n",
        "    df=pd.DataFrame()\n",
        "    for pc in root.xpath(\".//tr\"):\n",
        "        try:\n",
        "            l1=[]\n",
        "            for x in pc.xpath(\".//td\")[1:]:\n",
        "                l1.append(x.text_content().strip())\n",
        "            df[(pc.xpath(\".//td\")[0].text_content().strip())]=l1\n",
        "        except:\n",
        "            'error'\n",
        "    import investpy\n",
        "    try:\n",
        "      d=float(investpy.get_stock_information(ts,'United States')['Dividend (Yield)'].apply(lambda x:x[str.find(x,'(')+1:str.find(x,'%')]))\n",
        "    except:\n",
        "      d=0\n",
        "    df1=investpy.get_stock_financial_summary(ts,'United States')[['Total Revenue','Net Income']]\n",
        "    u=df1['Net Income'].astype('float64')\n",
        "    v=df1['Total Revenue'].astype('float64')\n",
        "    df=df.set_index(df1.index)\n",
        "    p=df['Total Current Liabilities'].astype('float64')\n",
        "    a=df['Total Assets'].astype('float64')\n",
        "    mu=u/v\n",
        "    v1=(a-p)/(a/v-p/v-mu*(1-d))\n",
        "    inc=v1-v\n",
        "    return(inc)"
      ]
    },
    {
      "cell_type": "markdown",
      "source": [
        "##Calculando Valores"
      ],
      "metadata": {
        "id": "pSIOaIB9rorj"
      }
    },
    {
      "cell_type": "code",
      "source": [
        "ventas_optimas('INTC')"
      ],
      "metadata": {
        "colab": {
          "base_uri": "https://localhost:8080/"
        },
        "id": "9w7ZwMqmraJI",
        "outputId": "d46705a9-16da-4868-9e34-ceec6b7be5c2"
      },
      "execution_count": null,
      "outputs": [
        {
          "output_type": "execute_result",
          "data": {
            "text/plain": [
              "Date\n",
              "2021-12-25   -12780.665365\n",
              "2020-12-26   -13486.017787\n",
              "2019-12-28   -11894.288790\n",
              "2018-12-29   -11039.202420\n",
              "dtype: float64"
            ]
          },
          "metadata": {},
          "execution_count": 35
        }
      ]
    },
    {
      "cell_type": "code",
      "source": [
        "ventas_optimas('AMD')"
      ],
      "metadata": {
        "colab": {
          "base_uri": "https://localhost:8080/"
        },
        "id": "oh5gnw4Zh1Fc",
        "outputId": "d1273491-173d-4df5-b317-5bd5ff3a7afb"
      },
      "execution_count": null,
      "outputs": [
        {
          "output_type": "execute_result",
          "data": {
            "text/plain": [
              "Date\n",
              "2021-12-25    233.695546\n",
              "2020-12-26    112.542568\n",
              "2019-12-28      9.873959\n",
              "2018-12-29      8.747229\n",
              "dtype: float64"
            ]
          },
          "metadata": {},
          "execution_count": 36
        }
      ]
    },
    {
      "cell_type": "markdown",
      "source": [
        "*In Millions of USD\n",
        "\n"
      ],
      "metadata": {
        "id": "hHRQKSrmszhI"
      }
    }
  ]
}